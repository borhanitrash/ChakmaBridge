{
 "cells": [
  {
   "cell_type": "code",
   "execution_count": 1,
   "metadata": {
    "execution": {
     "iopub.execute_input": "2025-09-24T09:43:02.046245Z",
     "iopub.status.busy": "2025-09-24T09:43:02.045562Z",
     "iopub.status.idle": "2025-09-24T09:44:13.462189Z",
     "shell.execute_reply": "2025-09-24T09:44:13.461476Z",
     "shell.execute_reply.started": "2025-09-24T09:43:02.046217Z"
    },
    "trusted": true
   },
   "outputs": [
    {
     "name": "stdout",
     "output_type": "stream",
     "text": [
      "\u001b[2K     \u001b[90m━━━━━━━━━━━━━━━━━━━━━━━━━━━━━━━━━━━━━━━━\u001b[0m \u001b[32m51.8/51.8 kB\u001b[0m \u001b[31m3.2 MB/s\u001b[0m eta \u001b[36m0:00:00\u001b[0m\n",
      "\u001b[2K   \u001b[90m━━━━━━━━━━━━━━━━━━━━━━━━━━━━━━━━━━━━━━━━\u001b[0m \u001b[32m84.1/84.1 kB\u001b[0m \u001b[31m6.0 MB/s\u001b[0m eta \u001b[36m0:00:00\u001b[0m\n",
      "\u001b[2K   \u001b[90m━━━━━━━━━━━━━━━━━━━━━━━━━━━━━━━━━━━━━━━━\u001b[0m \u001b[32m104.1/104.1 kB\u001b[0m \u001b[31m3.3 MB/s\u001b[0m eta \u001b[36m0:00:00\u001b[0m\n",
      "\u001b[2K   \u001b[90m━━━━━━━━━━━━━━━━━━━━━━━━━━━━━━━━━━━━━━━━\u001b[0m \u001b[32m61.1/61.1 kB\u001b[0m \u001b[31m3.8 MB/s\u001b[0m eta \u001b[36m0:00:00\u001b[0m\n",
      "\u001b[2K   \u001b[90m━━━━━━━━━━━━━━━━━━━━━━━━━━━━━━━━━━━━━━━━\u001b[0m \u001b[32m193.6/193.6 kB\u001b[0m \u001b[31m11.3 MB/s\u001b[0m eta \u001b[36m0:00:00\u001b[0m\n",
      "\u001b[2K   \u001b[90m━━━━━━━━━━━━━━━━━━━━━━━━━━━━━━━━━━━━━━━━\u001b[0m \u001b[32m363.4/363.4 MB\u001b[0m \u001b[31m4.7 MB/s\u001b[0m eta \u001b[36m0:00:00\u001b[0m:00:01\u001b[0m00:01\u001b[0m\n",
      "\u001b[2K   \u001b[90m━━━━━━━━━━━━━━━━━━━━━━━━━━━━━━━━━━━━━━━━\u001b[0m \u001b[32m13.8/13.8 MB\u001b[0m \u001b[31m96.8 MB/s\u001b[0m eta \u001b[36m0:00:00\u001b[0m:00:01\u001b[0m0:01\u001b[0m\n",
      "\u001b[2K   \u001b[90m━━━━━━━━━━━━━━━━━━━━━━━━━━━━━━━━━━━━━━━━\u001b[0m \u001b[32m24.6/24.6 MB\u001b[0m \u001b[31m73.9 MB/s\u001b[0m eta \u001b[36m0:00:00\u001b[0m:00:01\u001b[0m00:01\u001b[0m\n",
      "\u001b[2K   \u001b[90m━━━━━━━━━━━━━━━━━━━━━━━━━━━━━━━━━━━━━━━━\u001b[0m \u001b[32m883.7/883.7 kB\u001b[0m \u001b[31m38.7 MB/s\u001b[0m eta \u001b[36m0:00:00\u001b[0m\n",
      "\u001b[2K   \u001b[90m━━━━━━━━━━━━━━━━━━━━━━━━━━━━━━━━━━━━━━━━\u001b[0m \u001b[32m664.8/664.8 MB\u001b[0m \u001b[31m2.2 MB/s\u001b[0m eta \u001b[36m0:00:00\u001b[0m:00:01\u001b[0m00:01\u001b[0m\n",
      "\u001b[2K   \u001b[90m━━━━━━━━━━━━━━━━━━━━━━━━━━━━━━━━━━━━━━━━\u001b[0m \u001b[32m211.5/211.5 MB\u001b[0m \u001b[31m3.0 MB/s\u001b[0m eta \u001b[36m0:00:00\u001b[0m:00:01\u001b[0m00:01\u001b[0m\n",
      "\u001b[2K   \u001b[90m━━━━━━━━━━━━━━━━━━━━━━━━━━━━━━━━━━━━━━━━\u001b[0m \u001b[32m56.3/56.3 MB\u001b[0m \u001b[31m4.4 MB/s\u001b[0m eta \u001b[36m0:00:00\u001b[0m0:00:01\u001b[0m00:01\u001b[0m\n",
      "\u001b[2K   \u001b[90m━━━━━━━━━━━━━━━━━━━━━━━━━━━━━━━━━━━━━━━━\u001b[0m \u001b[32m127.9/127.9 MB\u001b[0m \u001b[31m13.6 MB/s\u001b[0m eta \u001b[36m0:00:00\u001b[0m00:01\u001b[0m00:01\u001b[0m\n",
      "\u001b[2K   \u001b[90m━━━━━━━━━━━━━━━━━━━━━━━━━━━━━━━━━━━━━━━━\u001b[0m \u001b[32m207.5/207.5 MB\u001b[0m \u001b[31m8.2 MB/s\u001b[0m eta \u001b[36m0:00:00\u001b[0m:00:01\u001b[0m00:01\u001b[0m\n",
      "\u001b[2K   \u001b[90m━━━━━━━━━━━━━━━━━━━━━━━━━━━━━━━━━━━━━━━━\u001b[0m \u001b[32m21.1/21.1 MB\u001b[0m \u001b[31m85.6 MB/s\u001b[0m eta \u001b[36m0:00:00\u001b[0m:00:01\u001b[0m00:01\u001b[0m\n",
      "\u001b[?25h\u001b[31mERROR: pip's dependency resolver does not currently take into account all the packages that are installed. This behaviour is the source of the following dependency conflicts.\n",
      "bigframes 2.8.0 requires google-cloud-bigquery-storage<3.0.0,>=2.30.0, which is not installed.\n",
      "cesium 0.12.4 requires numpy<3.0,>=2.0, but you have numpy 1.26.4 which is incompatible.\n",
      "gcsfs 2025.3.2 requires fsspec==2025.3.2, but you have fsspec 2025.3.0 which is incompatible.\n",
      "bigframes 2.8.0 requires google-cloud-bigquery[bqstorage,pandas]>=3.31.0, but you have google-cloud-bigquery 3.25.0 which is incompatible.\n",
      "bigframes 2.8.0 requires rich<14,>=12.4.4, but you have rich 14.0.0 which is incompatible.\u001b[0m\u001b[31m\n",
      "\u001b[0m"
     ]
    }
   ],
   "source": [
    "!pip install -q transformers[sentencepiece] datasets accelerate evaluate sacrebleu bert_score nltk"
   ]
  },
  {
   "cell_type": "code",
   "execution_count": null,
   "metadata": {
    "execution": {
     "iopub.execute_input": "2025-09-24T09:44:13.463756Z",
     "iopub.status.busy": "2025-09-24T09:44:13.463474Z",
     "iopub.status.idle": "2025-09-24T10:00:24.419095Z",
     "shell.execute_reply": "2025-09-24T10:00:24.418321Z",
     "shell.execute_reply.started": "2025-09-24T09:44:13.463730Z"
    },
    "trusted": true
   },
   "outputs": [
    {
     "name": "stderr",
     "output_type": "stream",
     "text": [
      "2025-09-24 09:44:29.886127: E external/local_xla/xla/stream_executor/cuda/cuda_fft.cc:477] Unable to register cuFFT factory: Attempting to register factory for plugin cuFFT when one has already been registered\n",
      "WARNING: All log messages before absl::InitializeLog() is called are written to STDERR\n",
      "E0000 00:00:1758707070.109422      36 cuda_dnn.cc:8310] Unable to register cuDNN factory: Attempting to register factory for plugin cuDNN when one has already been registered\n",
      "E0000 00:00:1758707070.171451      36 cuda_blas.cc:1418] Unable to register cuBLAS factory: Attempting to register factory for plugin cuBLAS when one has already been registered\n"
     ]
    },
    {
     "name": "stdout",
     "output_type": "stream",
     "text": [
      "Kaggle working directory cleaned!\n",
      "Using device: cuda\n",
      "\n",
      "[INFO] Loading and preprocessing data...\n",
      "Dataset loaded with 808 samples after cleaning.\n",
      "\n",
      "[INFO] Splitting the dataset...\n",
      "Train: 565, Validation: 81, Test: 162\n",
      "\n",
      "[INFO] Initializing model and tokenizer...\n"
     ]
    },
    {
     "data": {
      "application/vnd.jupyter.widget-view+json": {
       "model_id": "9aa51e8cbf0e4240a4a03b0724679e90",
       "version_major": 2,
       "version_minor": 0
      },
      "text/plain": [
       "tokenizer_config.json:   0%|          | 0.00/529 [00:00<?, ?B/s]"
      ]
     },
     "metadata": {},
     "output_type": "display_data"
    },
    {
     "data": {
      "application/vnd.jupyter.widget-view+json": {
       "model_id": "afb7af6a5940482093dc1849af095431",
       "version_major": 2,
       "version_minor": 0
      },
      "text/plain": [
       "sentencepiece.bpe.model:   0%|          | 0.00/5.07M [00:00<?, ?B/s]"
      ]
     },
     "metadata": {},
     "output_type": "display_data"
    },
    {
     "data": {
      "application/vnd.jupyter.widget-view+json": {
       "model_id": "b6cf682c494d4b00a13d766938e687fd",
       "version_major": 2,
       "version_minor": 0
      },
      "text/plain": [
       "special_tokens_map.json:   0%|          | 0.00/649 [00:00<?, ?B/s]"
      ]
     },
     "metadata": {},
     "output_type": "display_data"
    },
    {
     "data": {
      "application/vnd.jupyter.widget-view+json": {
       "model_id": "b5d6d6dab3e9425b89d4400e8da59a8c",
       "version_major": 2,
       "version_minor": 0
      },
      "text/plain": [
       "config.json: 0.00B [00:00, ?B/s]"
      ]
     },
     "metadata": {},
     "output_type": "display_data"
    },
    {
     "data": {
      "application/vnd.jupyter.widget-view+json": {
       "model_id": "016ed9044a764b36a50ae4b8f59d2a45",
       "version_major": 2,
       "version_minor": 0
      },
      "text/plain": [
       "model.safetensors:   0%|          | 0.00/2.44G [00:00<?, ?B/s]"
      ]
     },
     "metadata": {},
     "output_type": "display_data"
    },
    {
     "data": {
      "application/vnd.jupyter.widget-view+json": {
       "model_id": "a82fa2227267488fa182482394e7e090",
       "version_major": 2,
       "version_minor": 0
      },
      "text/plain": [
       "generation_config.json:   0%|          | 0.00/261 [00:00<?, ?B/s]"
      ]
     },
     "metadata": {},
     "output_type": "display_data"
    },
    {
     "name": "stdout",
     "output_type": "stream",
     "text": [
      "\n",
      "[INFO] Tokenizing datasets...\n"
     ]
    },
    {
     "data": {
      "application/vnd.jupyter.widget-view+json": {
       "model_id": "95b460c5cc394fbf841e0c8423bc8e44",
       "version_major": 2,
       "version_minor": 0
      },
      "text/plain": [
       "Map:   0%|          | 0/565 [00:00<?, ? examples/s]"
      ]
     },
     "metadata": {},
     "output_type": "display_data"
    },
    {
     "name": "stderr",
     "output_type": "stream",
     "text": [
      "/usr/local/lib/python3.11/dist-packages/transformers/tokenization_utils_base.py:3959: UserWarning: `as_target_tokenizer` is deprecated and will be removed in v5 of Transformers. You can tokenize your labels by using the argument `text_target` of the regular `__call__` method (either in the same call as your input texts if you use the same keyword arguments, or in a separate call.\n",
      "  warnings.warn(\n"
     ]
    },
    {
     "data": {
      "application/vnd.jupyter.widget-view+json": {
       "model_id": "0edabb8594f649cd9bd24454be18b113",
       "version_major": 2,
       "version_minor": 0
      },
      "text/plain": [
       "Map:   0%|          | 0/81 [00:00<?, ? examples/s]"
      ]
     },
     "metadata": {},
     "output_type": "display_data"
    },
    {
     "data": {
      "application/vnd.jupyter.widget-view+json": {
       "model_id": "06d7856c404541e699f963d1f9eb1c7b",
       "version_major": 2,
       "version_minor": 0
      },
      "text/plain": [
       "Map:   0%|          | 0/162 [00:00<?, ? examples/s]"
      ]
     },
     "metadata": {},
     "output_type": "display_data"
    },
    {
     "name": "stdout",
     "output_type": "stream",
     "text": [
      "\n",
      "[INFO] Setting up evaluation metrics (BLEU, METEOR, BERTScore)...\n"
     ]
    },
    {
     "data": {
      "application/vnd.jupyter.widget-view+json": {
       "model_id": "ce0a0de9f6854ce9aa5eb0a37aab188c",
       "version_major": 2,
       "version_minor": 0
      },
      "text/plain": [
       "Downloading builder script: 0.00B [00:00, ?B/s]"
      ]
     },
     "metadata": {},
     "output_type": "display_data"
    },
    {
     "data": {
      "application/vnd.jupyter.widget-view+json": {
       "model_id": "0cdd4970561645d1bfe8a77d098714cf",
       "version_major": 2,
       "version_minor": 0
      },
      "text/plain": [
       "Downloading builder script: 0.00B [00:00, ?B/s]"
      ]
     },
     "metadata": {},
     "output_type": "display_data"
    },
    {
     "name": "stderr",
     "output_type": "stream",
     "text": [
      "[nltk_data] Downloading package wordnet to /usr/share/nltk_data...\n",
      "[nltk_data]   Package wordnet is already up-to-date!\n",
      "[nltk_data] Downloading package punkt_tab to /usr/share/nltk_data...\n",
      "[nltk_data]   Package punkt_tab is already up-to-date!\n",
      "[nltk_data] Downloading package omw-1.4 to /usr/share/nltk_data...\n",
      "[nltk_data]   Package omw-1.4 is already up-to-date!\n"
     ]
    },
    {
     "data": {
      "application/vnd.jupyter.widget-view+json": {
       "model_id": "257dc597af044799a5e0ed5152a1fa11",
       "version_major": 2,
       "version_minor": 0
      },
      "text/plain": [
       "Downloading builder script: 0.00B [00:00, ?B/s]"
      ]
     },
     "metadata": {},
     "output_type": "display_data"
    },
    {
     "name": "stdout",
     "output_type": "stream",
     "text": [
      "\n",
      "[INFO] Configuring training arguments...\n"
     ]
    },
    {
     "name": "stderr",
     "output_type": "stream",
     "text": [
      "/tmp/ipykernel_36/921106388.py:187: FutureWarning: `tokenizer` is deprecated and will be removed in version 5.0.0 for `Seq2SeqTrainer.__init__`. Use `processing_class` instead.\n",
      "  trainer = Seq2SeqTrainer(\n"
     ]
    },
    {
     "name": "stdout",
     "output_type": "stream",
     "text": [
      "\n",
      "[INFO] Starting model training...\n"
     ]
    },
    {
     "data": {
      "text/html": [
       "\n",
       "    <div>\n",
       "      \n",
       "      <progress value='900' max='900' style='width:300px; height:20px; vertical-align: middle;'></progress>\n",
       "      [900/900 14:50, Epoch 25/25]\n",
       "    </div>\n",
       "    <table border=\"1\" class=\"dataframe\">\n",
       "  <thead>\n",
       " <tr style=\"text-align: left;\">\n",
       "      <th>Epoch</th>\n",
       "      <th>Training Loss</th>\n",
       "      <th>Validation Loss</th>\n",
       "      <th>Bleu</th>\n",
       "      <th>Meteor</th>\n",
       "      <th>Bertscore F1</th>\n",
       "      <th>Gen Len</th>\n",
       "    </tr>\n",
       "  </thead>\n",
       "  <tbody>\n",
       "    <tr>\n",
       "      <td>1</td>\n",
       "      <td>6.725500</td>\n",
       "      <td>4.415637</td>\n",
       "      <td>0.602500</td>\n",
       "      <td>0.069200</td>\n",
       "      <td>0.725000</td>\n",
       "      <td>17.888900</td>\n",
       "    </tr>\n",
       "    <tr>\n",
       "      <td>2</td>\n",
       "      <td>3.426700</td>\n",
       "      <td>3.328988</td>\n",
       "      <td>2.104100</td>\n",
       "      <td>0.176000</td>\n",
       "      <td>0.774600</td>\n",
       "      <td>17.000000</td>\n",
       "    </tr>\n",
       "    <tr>\n",
       "      <td>3</td>\n",
       "      <td>2.080400</td>\n",
       "      <td>2.886713</td>\n",
       "      <td>6.456900</td>\n",
       "      <td>0.234500</td>\n",
       "      <td>0.793600</td>\n",
       "      <td>16.382700</td>\n",
       "    </tr>\n",
       "    <tr>\n",
       "      <td>4</td>\n",
       "      <td>1.251600</td>\n",
       "      <td>2.955030</td>\n",
       "      <td>9.254900</td>\n",
       "      <td>0.260300</td>\n",
       "      <td>0.804500</td>\n",
       "      <td>16.135800</td>\n",
       "    </tr>\n",
       "    <tr>\n",
       "      <td>5</td>\n",
       "      <td>0.776300</td>\n",
       "      <td>2.999027</td>\n",
       "      <td>10.208500</td>\n",
       "      <td>0.305300</td>\n",
       "      <td>0.814500</td>\n",
       "      <td>16.246900</td>\n",
       "    </tr>\n",
       "    <tr>\n",
       "      <td>6</td>\n",
       "      <td>0.538000</td>\n",
       "      <td>3.122910</td>\n",
       "      <td>8.384100</td>\n",
       "      <td>0.262000</td>\n",
       "      <td>0.802700</td>\n",
       "      <td>15.000000</td>\n",
       "    </tr>\n",
       "    <tr>\n",
       "      <td>7</td>\n",
       "      <td>0.398200</td>\n",
       "      <td>3.053332</td>\n",
       "      <td>9.024900</td>\n",
       "      <td>0.289600</td>\n",
       "      <td>0.808600</td>\n",
       "      <td>16.000000</td>\n",
       "    </tr>\n",
       "    <tr>\n",
       "      <td>8</td>\n",
       "      <td>0.326900</td>\n",
       "      <td>3.114146</td>\n",
       "      <td>9.956000</td>\n",
       "      <td>0.304400</td>\n",
       "      <td>0.825000</td>\n",
       "      <td>15.493800</td>\n",
       "    </tr>\n",
       "    <tr>\n",
       "      <td>9</td>\n",
       "      <td>0.259100</td>\n",
       "      <td>3.177613</td>\n",
       "      <td>8.823400</td>\n",
       "      <td>0.288900</td>\n",
       "      <td>0.810700</td>\n",
       "      <td>14.716000</td>\n",
       "    </tr>\n",
       "    <tr>\n",
       "      <td>10</td>\n",
       "      <td>0.205400</td>\n",
       "      <td>3.181005</td>\n",
       "      <td>11.497500</td>\n",
       "      <td>0.299000</td>\n",
       "      <td>0.814200</td>\n",
       "      <td>15.098800</td>\n",
       "    </tr>\n",
       "    <tr>\n",
       "      <td>11</td>\n",
       "      <td>0.171400</td>\n",
       "      <td>3.262496</td>\n",
       "      <td>5.991400</td>\n",
       "      <td>0.319400</td>\n",
       "      <td>0.819000</td>\n",
       "      <td>15.296300</td>\n",
       "    </tr>\n",
       "    <tr>\n",
       "      <td>12</td>\n",
       "      <td>0.138900</td>\n",
       "      <td>3.149636</td>\n",
       "      <td>10.667600</td>\n",
       "      <td>0.296400</td>\n",
       "      <td>0.818200</td>\n",
       "      <td>15.148100</td>\n",
       "    </tr>\n",
       "    <tr>\n",
       "      <td>13</td>\n",
       "      <td>0.112900</td>\n",
       "      <td>3.257581</td>\n",
       "      <td>11.215100</td>\n",
       "      <td>0.320800</td>\n",
       "      <td>0.826300</td>\n",
       "      <td>14.679000</td>\n",
       "    </tr>\n",
       "    <tr>\n",
       "      <td>14</td>\n",
       "      <td>0.090400</td>\n",
       "      <td>3.260241</td>\n",
       "      <td>10.657600</td>\n",
       "      <td>0.326800</td>\n",
       "      <td>0.827900</td>\n",
       "      <td>15.518500</td>\n",
       "    </tr>\n",
       "    <tr>\n",
       "      <td>15</td>\n",
       "      <td>0.074800</td>\n",
       "      <td>3.291215</td>\n",
       "      <td>12.404000</td>\n",
       "      <td>0.334900</td>\n",
       "      <td>0.829200</td>\n",
       "      <td>15.716000</td>\n",
       "    </tr>\n",
       "    <tr>\n",
       "      <td>16</td>\n",
       "      <td>0.061500</td>\n",
       "      <td>3.265972</td>\n",
       "      <td>10.904000</td>\n",
       "      <td>0.311100</td>\n",
       "      <td>0.826400</td>\n",
       "      <td>14.987700</td>\n",
       "    </tr>\n",
       "    <tr>\n",
       "      <td>17</td>\n",
       "      <td>0.044100</td>\n",
       "      <td>3.258882</td>\n",
       "      <td>10.975300</td>\n",
       "      <td>0.329000</td>\n",
       "      <td>0.829100</td>\n",
       "      <td>15.407400</td>\n",
       "    </tr>\n",
       "    <tr>\n",
       "      <td>18</td>\n",
       "      <td>0.038300</td>\n",
       "      <td>3.235618</td>\n",
       "      <td>11.386600</td>\n",
       "      <td>0.336900</td>\n",
       "      <td>0.827900</td>\n",
       "      <td>15.555600</td>\n",
       "    </tr>\n",
       "    <tr>\n",
       "      <td>19</td>\n",
       "      <td>0.031000</td>\n",
       "      <td>3.274301</td>\n",
       "      <td>9.871600</td>\n",
       "      <td>0.331300</td>\n",
       "      <td>0.828500</td>\n",
       "      <td>15.395100</td>\n",
       "    </tr>\n",
       "    <tr>\n",
       "      <td>20</td>\n",
       "      <td>0.026600</td>\n",
       "      <td>3.267102</td>\n",
       "      <td>10.862400</td>\n",
       "      <td>0.313300</td>\n",
       "      <td>0.826700</td>\n",
       "      <td>15.284000</td>\n",
       "    </tr>\n",
       "    <tr>\n",
       "      <td>21</td>\n",
       "      <td>0.021700</td>\n",
       "      <td>3.259388</td>\n",
       "      <td>9.950200</td>\n",
       "      <td>0.332000</td>\n",
       "      <td>0.829500</td>\n",
       "      <td>15.197500</td>\n",
       "    </tr>\n",
       "    <tr>\n",
       "      <td>22</td>\n",
       "      <td>0.019300</td>\n",
       "      <td>3.274938</td>\n",
       "      <td>12.058000</td>\n",
       "      <td>0.324100</td>\n",
       "      <td>0.826100</td>\n",
       "      <td>15.617300</td>\n",
       "    </tr>\n",
       "    <tr>\n",
       "      <td>23</td>\n",
       "      <td>0.017600</td>\n",
       "      <td>3.278815</td>\n",
       "      <td>9.752600</td>\n",
       "      <td>0.328400</td>\n",
       "      <td>0.828700</td>\n",
       "      <td>15.617300</td>\n",
       "    </tr>\n",
       "    <tr>\n",
       "      <td>24</td>\n",
       "      <td>0.014700</td>\n",
       "      <td>3.287733</td>\n",
       "      <td>9.775500</td>\n",
       "      <td>0.327700</td>\n",
       "      <td>0.830400</td>\n",
       "      <td>15.530900</td>\n",
       "    </tr>\n",
       "    <tr>\n",
       "      <td>25</td>\n",
       "      <td>0.014000</td>\n",
       "      <td>3.292827</td>\n",
       "      <td>9.763700</td>\n",
       "      <td>0.325700</td>\n",
       "      <td>0.829300</td>\n",
       "      <td>15.493800</td>\n",
       "    </tr>\n",
       "  </tbody>\n",
       "</table><p>"
      ],
      "text/plain": [
       "<IPython.core.display.HTML object>"
      ]
     },
     "metadata": {},
     "output_type": "display_data"
    },
    {
     "data": {
      "application/vnd.jupyter.widget-view+json": {
       "model_id": "980a57c644ac4ca896459f9707ba8811",
       "version_major": 2,
       "version_minor": 0
      },
      "text/plain": [
       "tokenizer_config.json:   0%|          | 0.00/49.0 [00:00<?, ?B/s]"
      ]
     },
     "metadata": {},
     "output_type": "display_data"
    },
    {
     "data": {
      "application/vnd.jupyter.widget-view+json": {
       "model_id": "d7ee9fb1c5f24a678087f680caea4e93",
       "version_major": 2,
       "version_minor": 0
      },
      "text/plain": [
       "config.json:   0%|          | 0.00/625 [00:00<?, ?B/s]"
      ]
     },
     "metadata": {},
     "output_type": "display_data"
    },
    {
     "data": {
      "application/vnd.jupyter.widget-view+json": {
       "model_id": "c44faf1ff3ed47479df7d9a2b910c58d",
       "version_major": 2,
       "version_minor": 0
      },
      "text/plain": [
       "vocab.txt:   0%|          | 0.00/996k [00:00<?, ?B/s]"
      ]
     },
     "metadata": {},
     "output_type": "display_data"
    },
    {
     "data": {
      "application/vnd.jupyter.widget-view+json": {
       "model_id": "80a738e25ef34a0c8f50ca7c09e77553",
       "version_major": 2,
       "version_minor": 0
      },
      "text/plain": [
       "tokenizer.json:   0%|          | 0.00/1.96M [00:00<?, ?B/s]"
      ]
     },
     "metadata": {},
     "output_type": "display_data"
    },
    {
     "data": {
      "application/vnd.jupyter.widget-view+json": {
       "model_id": "dac5cda2201c4c45b2863ca622d5d816",
       "version_major": 2,
       "version_minor": 0
      },
      "text/plain": [
       "model.safetensors:   0%|          | 0.00/714M [00:00<?, ?B/s]"
      ]
     },
     "metadata": {},
     "output_type": "display_data"
    },
    {
     "name": "stderr",
     "output_type": "stream",
     "text": [
      "/usr/local/lib/python3.11/dist-packages/transformers/modeling_utils.py:3465: UserWarning: Moving the following attributes in the config to the generation config: {'max_length': 200, 'early_stopping': True, 'num_beams': 5}. You are seeing this warning because you've set generation parameters in the model config, as opposed to in the generation config.\n",
      "  warnings.warn(\n",
      "There were missing keys in the checkpoint model loaded: ['model.encoder.embed_tokens.weight', 'model.decoder.embed_tokens.weight', 'lm_head.weight'].\n"
     ]
    },
    {
     "name": "stdout",
     "output_type": "stream",
     "text": [
      "\n",
      "[INFO] Training finished.\n",
      "Best model saved to ./mbart-eng-to-chakma/best_model\n",
      "\n",
      "[INFO] Generating training and validation curves...\n"
     ]
    },
    {
     "data": {
      "image/png": "[encoded data removed]",
      "text/plain": [
       "<Figure size 1200x800 with 1 Axes>"
      ]
     },
     "metadata": {},
     "output_type": "display_data"
    },
    {
     "data": {
      "image/png": "[encoded data removed]",
      "text/plain": [
       "<Figure size 1200x800 with 1 Axes>"
      ]
     },
     "metadata": {},
     "output_type": "display_data"
    },
    {
     "name": "stdout",
     "output_type": "stream",
     "text": [
      "\n",
      "[INFO] Performing final evaluation on the test set...\n"
     ]
    },
    {
     "data": {
      "text/html": [
       "\n",
       "    <div>\n",
       "      \n",
       "      <progress value='21' max='21' style='width:300px; height:20px; vertical-align: middle;'></progress>\n",
       "      [21/21 00:15]\n",
       "    </div>\n",
       "    "
      ],
      "text/plain": [
       "<IPython.core.display.HTML object>"
      ]
     },
     "metadata": {},
     "output_type": "display_data"
    },
    {
     "name": "stdout",
     "output_type": "stream",
     "text": [
      "\n",
      "--- Test Set Evaluation Results ---\n",
      "Loss           : 3.0335\n",
      "Bleu           : 17.8845\n",
      "Meteor         : 0.3449\n",
      "Bertscore_f1   : 0.8340\n",
      "Gen_len        : 15.5185\n",
      "Runtime        : 16.5988\n",
      "Samples_per_second: 9.7600\n",
      "Steps_per_second: 1.2650\n",
      "-----------------------------------\n",
      "\n",
      "[INFO] Running inference on test samples for qualitative analysis...\n",
      "\n",
      "--- Qualitative Analysis: Sample Translations ---\n",
      "\n",
      "Sample #1\n",
      "  - Source (EN):      I can't come.\n",
      "  - Reference (CCP):  মুই এই নোপারিম\n",
      "  - Model Output (CCP): মুই এবো নোপারে\n",
      "--------------------------------------------------\n",
      "Sample #2\n",
      "  - Source (EN):      There are many fish in this lake\n",
      "  - Reference (CCP):  এই হ্রদতানত বালুক্কুন মাজ আগে\n",
      "  - Model Output (CCP): এই লেক্কুন মাছ আগে\n",
      "--------------------------------------------------\n",
      "Sample #3\n",
      "  - Source (EN):      Can you help me with my history project?\n",
      "  - Reference (CCP):  তুই হি মরে ইতিহাস প্রকল্পট সাহায্য গুরি পারিবি?\n",
      "  - Model Output (CCP): তুই হি মরে মর ইতিহাস প্রকল্প আনট সাহায্য গুরি পারিবি?\n",
      "--------------------------------------------------\n",
      "Sample #4\n",
      "  - Source (EN):      I am going to a seminar on effective data interpretation.\n",
      "  - Reference (CCP):  মুই ইজ্ঞু কার্যকর তথ্য ব্যাখ্যার উরি ইজ্ঞু আলোচনা সভাত যাঙ অর\n",
      "  - Model Output (CCP): মুই ইজ্ঞু কার্যকর ডাটা পুড়িবার ইজ্ঞু সেমিনারট যাঙ অর\n",
      "--------------------------------------------------\n",
      "Sample #5\n",
      "  - Source (EN):      You're so nice\n",
      "  - Reference (CCP):  তুই অনেক চমৎকার\n",
      "  - Model Output (CCP): তুই অনেক দোল\n",
      "--------------------------------------------------\n",
      "Sample #6\n",
      "  - Source (EN):      A friend of mine is from Bangladesh\n",
      "  - Reference (CCP):  মর ইক্কো সমাজ্জে বাংলাদেজত্তুন ইচ্চে\n",
      "  - Model Output (CCP): মর ইজ্ঞু বাংলাদেজত সমাজ্জি\n",
      "--------------------------------------------------\n",
      "Sample #7\n",
      "  - Source (EN):      I want to buy a smartphone.\n",
      "  - Reference (CCP):  মুই ইজ্ঞু স্মার্টওয়াচ হিনিবার চাঙ\n",
      "  - Model Output (CCP): মুই ইজ্ঞু্প্টপ হিনিবার চাঙ\n",
      "--------------------------------------------------\n",
      "Sample #8\n",
      "  - Source (EN):      I have a headache\n",
      "  - Reference (CCP):  মুই মাদা আনত পিরি পাঙ অর\n",
      "  - Model Output (CCP): মর ইজ্ঞু প্রম পিরি আগে\n",
      "--------------------------------------------------\n",
      "Sample #9\n",
      "  - Source (EN):      I want to buy a new camera.\n",
      "  - Reference (CCP):  মুই ইজ্ঞু নুয়ো ক্যামেরা লোবার চাঙ\n",
      "  - Model Output (CCP): মুই ইজ্ঞু্ নুয়ো ক্যামেরা হিনিবার সাঙ\n",
      "--------------------------------------------------\n",
      "Sample #10\n",
      "  - Source (EN):      I need to buy a new pair of shoes.\n",
      "  - Reference (CCP):  মুই ইজ্ঞু নুয়ো জুতা হিনিবার চাঙ।\n",
      "  - Model Output (CCP): মর একজুর নো চপ্পল হিনা পুরিবো\n",
      "--------------------------------------------------\n",
      "\n",
      "Notebook execution complete.\n"
     ]
    }
   ],
   "source": [
    "# =================================================================================================\n",
    "# Kaggle Notebook: English to Chakma Translation with mBART-50 for Low-Resource Scenarios\n",
    "# =================================================================================================\n",
    "\n",
    "import pandas as pd\n",
    "import numpy as np\n",
    "import torch\n",
    "import nltk\n",
    "import re\n",
    "import gc\n",
    "from tqdm.auto import tqdm\n",
    "import matplotlib.pyplot as plt\n",
    "import seaborn as sns\n",
    "\n",
    "from datasets import Dataset, DatasetDict\n",
    "from sklearn.model_selection import train_test_split\n",
    "\n",
    "from transformers import (\n",
    "    MBartForConditionalGeneration,\n",
    "    MBart50TokenizerFast,\n",
    "    Seq2SeqTrainingArguments,\n",
    "    Seq2SeqTrainer,\n",
    "    DataCollatorForSeq2Seq\n",
    ")\n",
    "import evaluate\n",
    "\n",
    "nltk.download('wordnet', quiet=True)\n",
    "nltk.download('punkt', quiet=True)\n",
    "nltk.download('omw-1.4', quiet=True)\n",
    "\n",
    "import os\n",
    "import shutil\n",
    "\n",
    "working_dir = \"/kaggle/working\"\n",
    "\n",
    "for filename in os.listdir(working_dir):\n",
    "    file_path = os.path.join(working_dir, filename)\n",
    "    try:\n",
    "        if os.path.isfile(file_path) or os.path.islink(file_path):\n",
    "            os.unlink(file_path)  \n",
    "        elif os.path.isdir(file_path):\n",
    "            shutil.rmtree(file_path)  \n",
    "    except Exception as e:\n",
    "        print(f\"Failed to delete {file_path}: {e}\")\n",
    "\n",
    "print(\"Kaggle working directory cleaned!\")\n",
    "\n",
    "\n",
    "# # 2. Configuration\n",
    "class Config:\n",
    "    DATASET_PATH = \"/kaggle/input/aacl-chakma/AACL - AACL_filtered.csv\"\n",
    "    SOURCE_LANG, TARGET_LANG = \"English\", \"chakma\"\n",
    "    MODEL_CHECKPOINT = \"facebook/mbart-large-50-many-to-many-mmt\"\n",
    "    SOURCE_LANG_CODE, TARGET_LANG_CODE = \"en_XX\", \"bn_IN\"\n",
    "    OUTPUT_DIR = \"./mbart-eng-to-chakma\"\n",
    "    MAX_INPUT_LENGTH, MAX_TARGET_LENGTH = 128, 128\n",
    "    BATCH_SIZE, GRADIENT_ACCUMULATION_STEPS = 8, 2\n",
    "    EVAL_STRATEGY = \"epoch\"\n",
    "    NUM_EPOCHS, LEARNING_RATE = 25, 5e-5\n",
    "    WEIGHT_DECAY, WARMUP_STEPS = 0.01, 50\n",
    "    TRAIN_RATIO, VALIDATION_RATIO, TEST_RATIO = 0.7, 0.1, 0.2\n",
    "    SEED = 42\n",
    "\n",
    "config = Config()\n",
    "device = \"cuda\" if torch.cuda.is_available() else \"cpu\"\n",
    "print(f\"Using device: {device}\")\n",
    "\n",
    "\n",
    "# # 3. Data Loading and Preprocessing\n",
    "print(\"\\n[INFO] Loading and preprocessing data...\")\n",
    "df = pd.read_csv(config.DATASET_PATH)\n",
    "df = df[[config.SOURCE_LANG, config.TARGET_LANG]].rename(columns={config.SOURCE_LANG: 'en', config.TARGET_LANG: 'ccp'})\n",
    "df.dropna(inplace=True)\n",
    "def clean_text(text):\n",
    "    return text.strip() if isinstance(text, str) else \"\"\n",
    "df['en'] = df['en'].apply(clean_text)\n",
    "df['ccp'] = df['ccp'].apply(clean_text)\n",
    "df = df[(df['en'] != '') & (df['ccp'] != '')]\n",
    "print(f\"Dataset loaded with {len(df)} samples after cleaning.\")\n",
    "\n",
    "\n",
    "# # 4. Train/Validation/Test Split\n",
    "print(\"\\n[INFO] Splitting the dataset...\")\n",
    "train_df, temp_df = train_test_split(df, test_size=(1 - config.TRAIN_RATIO), random_state=config.SEED)\n",
    "val_df, test_df = train_test_split(temp_df, test_size=(config.TEST_RATIO / (config.VALIDATION_RATIO + config.TEST_RATIO)), random_state=config.SEED)\n",
    "raw_datasets = DatasetDict({\n",
    "    'train': Dataset.from_pandas(train_df.reset_index(drop=True)),\n",
    "    'validation': Dataset.from_pandas(val_df.reset_index(drop=True)),\n",
    "    'test': Dataset.from_pandas(test_df.reset_index(drop=True))\n",
    "})\n",
    "print(f\"Train: {len(train_df)}, Validation: {len(val_df)}, Test: {len(test_df)}\")\n",
    "\n",
    "\n",
    "# # 5. Model and Tokenizer Initialization\n",
    "print(\"\\n[INFO] Initializing model and tokenizer...\")\n",
    "tokenizer = MBart50TokenizerFast.from_pretrained(config.MODEL_CHECKPOINT, src_lang=config.SOURCE_LANG_CODE, tgt_lang=config.TARGET_LANG_CODE)\n",
    "model = MBartForConditionalGeneration.from_pretrained(config.MODEL_CHECKPOINT)\n",
    "\n",
    "\n",
    "# # 6. Tokenization\n",
    "print(\"\\n[INFO] Tokenizing datasets...\")\n",
    "def preprocess_function(examples):\n",
    "    model_inputs = tokenizer(examples[\"en\"], max_length=config.MAX_INPUT_LENGTH, truncation=True)\n",
    "    with tokenizer.as_target_tokenizer():\n",
    "        labels = tokenizer(examples[\"ccp\"], max_length=config.MAX_TARGET_LENGTH, truncation=True)\n",
    "    model_inputs[\"labels\"] = labels[\"input_ids\"]\n",
    "    return model_inputs\n",
    "tokenized_datasets = raw_datasets.map(preprocess_function, batched=True, remove_columns=raw_datasets[\"train\"].column_names)\n",
    "\n",
    "\n",
    "# # 7. Evaluation Metrics with BERTScore\n",
    "print(\"\\n[INFO] Setting up evaluation metrics (BLEU, METEOR, BERTScore)...\")\n",
    "bleu_metric = evaluate.load(\"sacrebleu\")\n",
    "meteor_metric = evaluate.load(\"meteor\")\n",
    "bertscore_metric = evaluate.load(\"bertscore\")\n",
    "\n",
    "def compute_metrics(eval_preds):\n",
    "    preds, labels = eval_preds\n",
    "    if isinstance(preds, tuple): preds = preds[0]\n",
    "    labels = np.where(labels != -100, labels, tokenizer.pad_token_id)\n",
    "    decoded_preds = tokenizer.batch_decode(preds, skip_special_tokens=True)\n",
    "    decoded_labels = tokenizer.batch_decode(labels, skip_special_tokens=True)\n",
    "    post_processed_labels = [[label.strip()] for label in decoded_labels]\n",
    "    post_processed_preds = [pred.strip() for pred in decoded_preds]\n",
    "    bleu = bleu_metric.compute(predictions=post_processed_preds, references=post_processed_labels)\n",
    "    meteor = meteor_metric.compute(predictions=post_processed_preds, references=post_processed_labels)\n",
    "    bertscore = bertscore_metric.compute(predictions=post_processed_preds, references=post_processed_labels, lang=\"bn\")\n",
    "    result = {\n",
    "        \"bleu\": bleu[\"score\"],\n",
    "        \"meteor\": meteor[\"meteor\"],\n",
    "        \"bertscore_f1\": np.mean(bertscore[\"f1\"]),\n",
    "    }\n",
    "    prediction_lens = [np.count_nonzero(pred != tokenizer.pad_token_id) for pred in preds]\n",
    "    result[\"gen_len\"] = np.mean(prediction_lens)\n",
    "    return {k: round(v, 4) for k, v in result.items()}\n",
    "\n",
    "\n",
    "# # 8. Training Configuration\n",
    "print(\"\\n[INFO] Configuring training arguments...\")\n",
    "training_args = Seq2SeqTrainingArguments(\n",
    "    output_dir=config.OUTPUT_DIR,\n",
    "    eval_strategy=config.EVAL_STRATEGY,\n",
    "    logging_strategy=config.EVAL_STRATEGY,\n",
    "    save_strategy=config.EVAL_STRATEGY,\n",
    "    per_device_train_batch_size=config.BATCH_SIZE,\n",
    "    per_device_eval_batch_size=config.BATCH_SIZE,\n",
    "    learning_rate=config.LEARNING_RATE,\n",
    "    weight_decay=config.WEIGHT_DECAY,\n",
    "    num_train_epochs=config.NUM_EPOCHS,\n",
    "    warmup_steps=config.WARMUP_STEPS,\n",
    "    fp16=True,\n",
    "    gradient_accumulation_steps=config.GRADIENT_ACCUMULATION_STEPS,\n",
    "    gradient_checkpointing=True,\n",
    "    save_total_limit=1,\n",
    "    save_only_model=True, \n",
    "    predict_with_generate=True,\n",
    "    load_best_model_at_end=True,\n",
    "    metric_for_best_model=\"bleu\",\n",
    "    greater_is_better=True,\n",
    "    report_to=\"none\"\n",
    ")\n",
    "data_collator = DataCollatorForSeq2Seq(tokenizer, model=model)\n",
    "trainer = Seq2SeqTrainer(\n",
    "    model=model, args=training_args,\n",
    "    train_dataset=tokenized_datasets[\"train\"], eval_dataset=tokenized_datasets[\"validation\"],\n",
    "    tokenizer=tokenizer, data_collator=data_collator, compute_metrics=compute_metrics\n",
    ")\n",
    "\n",
    "\n",
    "# # 9. Model Training\n",
    "gc.collect()\n",
    "torch.cuda.empty_cache()\n",
    "print(\"\\n[INFO] Starting model training...\")\n",
    "train_result = trainer.train()\n",
    "print(\"\\n[INFO] Training finished.\")\n",
    "trainer.save_model(f\"{config.OUTPUT_DIR}/best_model\")\n",
    "tokenizer.save_pretrained(f\"{config.OUTPUT_DIR}/best_model\")\n",
    "print(f\"Best model saved to {config.OUTPUT_DIR}/best_model\")\n",
    "\n",
    "\n",
    "# # 10. Training and Validation Curve Visualization\n",
    "print(\"\\n[INFO] Generating training and validation curves...\")\n",
    "log_history = trainer.state.log_history\n",
    "eval_df = pd.DataFrame([log for log in log_history if 'eval_loss' in log])\n",
    "train_df_logs = pd.DataFrame([log for log in log_history if 'loss' in log and 'epoch' in log])\n",
    "eval_df['epoch'] = eval_df['epoch'].round()\n",
    "train_df_logs['epoch'] = train_df_logs['epoch'].round()\n",
    "log_df = pd.merge(train_df_logs, eval_df, on='epoch', how='inner').drop_duplicates(subset=['epoch'], keep='last')\n",
    "\n",
    "plt.style.use('seaborn-v0_8-whitegrid')\n",
    "plt.figure(figsize=(12, 8))\n",
    "plt.plot(log_df['epoch'], log_df['loss'], label='Training Loss', marker='o', linestyle='--')\n",
    "plt.plot(log_df['epoch'], log_df['eval_loss'], label='Validation Loss', marker='o')\n",
    "plt.title('Training & Validation Loss per Epoch', fontsize=16, weight='bold')\n",
    "plt.xlabel('Epoch', fontsize=14)\n",
    "plt.ylabel('Loss', fontsize=14)\n",
    "plt.legend()\n",
    "plt.xticks(log_df['epoch'].unique().astype(int))\n",
    "plt.grid(True)\n",
    "plt.show()\n",
    "\n",
    "fig, ax = plt.subplots(figsize=(12, 8))\n",
    "ax.plot(log_df['epoch'], log_df['eval_bleu'], label='Validation BLEU', marker='o')\n",
    "ax.plot(log_df['epoch'], log_df['eval_meteor'], label='Validation METEOR', marker='s')\n",
    "ax.plot(log_df['epoch'], log_df['eval_bertscore_f1'], label='Validation BERTScore-F1', marker='^')\n",
    "ax.set_xlabel('Epoch', fontsize=14)\n",
    "ax.set_ylabel('Score', fontsize=14)\n",
    "ax.set_title('Validation Metrics per Epoch', fontsize=16, weight='bold')\n",
    "ax.legend()\n",
    "ax.set_xticks(log_df['epoch'].unique().astype(int))\n",
    "ax.grid(True)\n",
    "plt.show()\n",
    "\n",
    "\n",
    "# # 11. Final Evaluation on Test Set\n",
    "print(\"\\n[INFO] Performing final evaluation on the test set...\")\n",
    "test_results = trainer.evaluate(eval_dataset=tokenized_datasets[\"test\"])\n",
    "print(\"\\n--- Test Set Evaluation Results ---\")\n",
    "for key, value in test_results.items():\n",
    "    if key.startswith(\"eval_\"):\n",
    "        print(f\"{key.replace('eval_', '').capitalize():<15}: {value:.4f}\")\n",
    "print(\"-----------------------------------\")\n",
    "\n",
    "\n",
    "# # 12. Inference and Qualitative Analysis\n",
    "print(\"\\n[INFO] Running inference on test samples for qualitative analysis...\")\n",
    "model_path = f\"{config.OUTPUT_DIR}/best_model\"\n",
    "tokenizer = MBart50TokenizerFast.from_pretrained(model_path)\n",
    "model = MBartForConditionalGeneration.from_pretrained(model_path).to(device)\n",
    "\n",
    "def translate(text):\n",
    "    tokenizer.src_lang = config.SOURCE_LANG_CODE\n",
    "    inputs = tokenizer(text, return_tensors=\"pt\", truncation=True, max_length=config.MAX_INPUT_LENGTH).to(device)\n",
    "    generated_tokens = model.generate(\n",
    "        **inputs,\n",
    "        forced_bos_token_id=tokenizer.lang_code_to_id[config.TARGET_LANG_CODE],\n",
    "        max_length=config.MAX_TARGET_LENGTH, num_beams=5, early_stopping=True\n",
    "    )\n",
    "    return tokenizer.batch_decode(generated_tokens, skip_special_tokens=True)[0]\n",
    "\n",
    "print(\"\\n--- Qualitative Analysis: Sample Translations ---\\n\")\n",
    "for i in range(min(10, len(test_df))):\n",
    "    sample = raw_datasets['test'][i]\n",
    "    source, reference = sample['en'], sample['ccp']\n",
    "    model_output = translate(source)\n",
    "    print(f\"Sample #{i+1}\")\n",
    "    print(f\"  - Source (EN):      {source}\")\n",
    "    print(f\"  - Reference (CCP):  {reference}\")\n",
    "    print(f\"  - Model Output (CCP): {model_output}\")\n",
    "    print(\"-\" * 50)\n",
    "\n",
    "print(\"\\nNotebook execution complete.\")"
   ]
  }
 ],
 "metadata": {
  "kaggle": {
   "accelerator": "gpu",
   "dataSources": [
    {
     "datasetId": 8332797,
     "sourceId": 13151741,
     "sourceType": "datasetVersion"
    }
   ],
   "dockerImageVersionId": 31090,
   "isGpuEnabled": true,
   "isInternetEnabled": true,
   "language": "python",
   "sourceType": "notebook"
  },
  "kernelspec": {
   "display_name": "Python 3",
   "language": "python",
   "name": "python3"
  },
  "language_info": {
   "codemirror_mode": {
    "name": "ipython",
    "version": 3
   },
   "file_extension": ".py",
   "mimetype": "text/x-python",
   "name": "python",
   "nbconvert_exporter": "python",
   "pygments_lexer": "ipython3",
   "version": "3.11.13"
  }
 },
 "nbformat": 4,
 "nbformat_minor": 4
}
